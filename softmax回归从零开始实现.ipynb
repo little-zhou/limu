{
 "cells": [
  {
   "cell_type": "code",
   "execution_count": 1,
   "id": "ed73978a-61cc-4b1c-bd53-7f0405a495ce",
   "metadata": {},
   "outputs": [],
   "source": [
    "import torch\n",
    "from IPython import display\n",
    "from d2l import torch as d2l"
   ]
  },
  {
   "cell_type": "code",
   "execution_count": 2,
   "id": "29fb7837-2266-484e-81f9-f67c4b4b00c0",
   "metadata": {},
   "outputs": [],
   "source": [
    "batch_size = 256\n",
    "train_iter, test_iter = d2l.load_data_fashion_mnist(batch_size)"
   ]
  },
  {
   "cell_type": "code",
   "execution_count": 6,
   "id": "e11278ef-e310-49d6-bb76-2ead46c1aae7",
   "metadata": {},
   "outputs": [],
   "source": [
    "num_inputs = 784 # 28 * 28\n",
    "num_outputs = 10\n",
    "\n",
    "w = torch.normal(0, 0.01, size=(num_inputs, num_outputs), requires_grad=True)\n",
    "b = torch.zeros(num_outputs, requires_grad=True)"
   ]
  },
  {
   "cell_type": "code",
   "execution_count": 8,
   "id": "b4f10ce7-e0a4-40b9-93a6-ec813aabc114",
   "metadata": {},
   "outputs": [
    {
     "data": {
      "text/plain": [
       "(tensor([[5., 7., 9.]]),\n",
       " tensor([[ 6.],\n",
       "         [15.]]))"
      ]
     },
     "execution_count": 8,
     "metadata": {},
     "output_type": "execute_result"
    }
   ],
   "source": [
    "# 前置知识\n",
    "X = torch.tensor([[1.0, 2.0, 3.0], [4.0, 5.0, 6.0]])\n",
    "# dim=0 表示“按行方向求和”，也就是对每一列求和。\n",
    "# dim=1 表示“按列方向求和”，也就是对每一行求和。\n",
    "X.sum(0, keepdim=True), X.sum(1, keepdim=True)"
   ]
  },
  {
   "cell_type": "code",
   "execution_count": 7,
   "id": "5aea4dbf-d0a4-459f-aef5-fc586f11fc6c",
   "metadata": {},
   "outputs": [],
   "source": [
    "# 实现softmax\n",
    "def softmax(X):\n",
    "    X_exp = torch.exp(X)\n",
    "    partition = X_exp.sum(1, keepdim=True)\n",
    "    return X_exp / partition # 这里应用了广播机制"
   ]
  },
  {
   "cell_type": "code",
   "execution_count": 13,
   "id": "65593b04-1bd9-4cc2-b2bd-cba67f22e6bf",
   "metadata": {},
   "outputs": [
    {
     "name": "stdout",
     "output_type": "stream",
     "text": [
      "res---------> tensor([0.7000, 0.8000])\n",
      "tensor([0.3567, 0.2231])\n",
      "tensor(0.2899)\n"
     ]
    }
   ],
   "source": [
    "import torch\n",
    "def cross_entropy(y_hat, y):\n",
    "    res = y_hat[range(len(y_hat)), y]\n",
    "    print(f\"res---------> {res}\")\n",
    "    return -torch.log(res)\n",
    "\n",
    "y_hat = torch.tensor([[0.1, 0.7, 0.2],\n",
    "                      [0.8, 0.1, 0.1]])\n",
    "y = torch.tensor([1, 0])\n",
    "\n",
    "loss = cross_entropy(y_hat, y)\n",
    "print(loss)\n",
    "print(loss.mean())\n"
   ]
  }
 ],
 "metadata": {
  "kernelspec": {
   "display_name": "Python 3 (ipykernel)",
   "language": "python",
   "name": "python3"
  },
  "language_info": {
   "codemirror_mode": {
    "name": "ipython",
    "version": 3
   },
   "file_extension": ".py",
   "mimetype": "text/x-python",
   "name": "python",
   "nbconvert_exporter": "python",
   "pygments_lexer": "ipython3",
   "version": "3.8.20"
  }
 },
 "nbformat": 4,
 "nbformat_minor": 5
}
