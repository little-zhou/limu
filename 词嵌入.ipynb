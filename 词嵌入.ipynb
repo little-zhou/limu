{
 "cells": [
  {
   "cell_type": "code",
   "execution_count": null,
   "id": "ff757dca-4f19-4746-bae1-1b05116cb42c",
   "metadata": {},
   "outputs": [],
   "source": [
    "# one-hot词向量无法准确表达不同词之间的相似度,如我们常常使用的余弦相似度。任意两个不同词的one-hot向量的余弦相似度都为0。"
   ]
  }
 ],
 "metadata": {
  "kernelspec": {
   "display_name": "Python 3 (ipykernel)",
   "language": "python",
   "name": "python3"
  },
  "language_info": {
   "codemirror_mode": {
    "name": "ipython",
    "version": 3
   },
   "file_extension": ".py",
   "mimetype": "text/x-python",
   "name": "python",
   "nbconvert_exporter": "python",
   "pygments_lexer": "ipython3",
   "version": "3.8.20"
  }
 },
 "nbformat": 4,
 "nbformat_minor": 5
}
