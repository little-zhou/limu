{
 "cells": [
  {
   "cell_type": "code",
   "execution_count": 1,
   "id": "32d54d55-856e-4fc2-beaa-4c8db0cb9fd0",
   "metadata": {},
   "outputs": [],
   "source": [
    "import numpy as np\n",
    "import torch\n",
    "from torch.utils import data\n",
    "from d2l import torch as d2l"
   ]
  },
  {
   "cell_type": "code",
   "execution_count": 2,
   "id": "d067f45f-d2fb-40ba-a31f-7df38acac46d",
   "metadata": {},
   "outputs": [],
   "source": [
    "true_w = torch.tensor([2, -3.4])\n",
    "true_b = 4.2\n",
    "features, lables = d2l.synthetic_data(true_w, true_b, 1000)"
   ]
  },
  {
   "cell_type": "code",
   "execution_count": 3,
   "id": "3f6d8d2b-cf76-48ef-8125-1b64cd0ed709",
   "metadata": {},
   "outputs": [
    {
     "data": {
      "text/plain": [
       "(torch.Size([1000, 2]), torch.Size([1000, 1]))"
      ]
     },
     "execution_count": 3,
     "metadata": {},
     "output_type": "execute_result"
    }
   ],
   "source": [
    "features.shape, lables.shape"
   ]
  },
  {
   "cell_type": "code",
   "execution_count": 21,
   "id": "b64b4c91-25c2-4192-8c99-02c9fb1ecc8e",
   "metadata": {},
   "outputs": [
    {
     "data": {
      "text/plain": [
       "[tensor([[-0.8676,  0.2204],\n",
       "         [-1.0509,  0.7635],\n",
       "         [-2.5362,  0.9902],\n",
       "         [ 1.7268,  0.3590],\n",
       "         [ 0.2272,  1.2268],\n",
       "         [-2.9760, -1.4987],\n",
       "         [ 0.5495, -0.2973],\n",
       "         [ 0.5562,  0.6088],\n",
       "         [-0.4643,  0.9284],\n",
       "         [-0.2186, -0.0942]]),\n",
       " tensor([[ 1.7199],\n",
       "         [-0.5090],\n",
       "         [-4.2278],\n",
       "         [ 6.4395],\n",
       "         [ 0.4879],\n",
       "         [ 3.3356],\n",
       "         [ 6.3375],\n",
       "         [ 3.2374],\n",
       "         [ 0.1159],\n",
       "         [ 4.1028]])]"
      ]
     },
     "execution_count": 21,
     "metadata": {},
     "output_type": "execute_result"
    }
   ],
   "source": [
    "def load_array(data_arrays, batch_size, is_train=True):\n",
    "    dataset = data.TensorDataset(*data_arrays)\n",
    "    return data.DataLoader(dataset, batch_size, shuffle=is_train)\n",
    "\n",
    "batch_size = 10\n",
    "data_iter = load_array((features, lables), batch_size)\n",
    "next(iter(data_iter))"
   ]
  },
  {
   "cell_type": "code",
   "execution_count": 26,
   "id": "b187b44c-5835-44d1-95e3-97c2973b3a79",
   "metadata": {},
   "outputs": [
    {
     "data": {
      "text/plain": [
       "tensor([0.])"
      ]
     },
     "execution_count": 26,
     "metadata": {},
     "output_type": "execute_result"
    }
   ],
   "source": [
    "# linear regression model\n",
    "from torch import nn\n",
    "net = nn.Sequential(nn.Linear(2, 1))\n",
    "# init w and b\n",
    "net[0].weight.data.normal_(0, 0.01)\n",
    "net[0].bias.data.fill_(0)"
   ]
  },
  {
   "cell_type": "code",
   "execution_count": 27,
   "id": "48b4e399-10d0-4066-8b4d-04c282ce9a08",
   "metadata": {},
   "outputs": [],
   "source": [
    "# loss func\n",
    "loss = nn.MSELoss()"
   ]
  },
  {
   "cell_type": "code",
   "execution_count": 28,
   "id": "5f62137d-0579-47be-ba7a-c231c358f8c8",
   "metadata": {},
   "outputs": [],
   "source": [
    "# SGD = Stochastic Gradient Descent（随机梯度下降）\n",
    "trainer = torch.optim.SGD(net.parameters(), lr=0.03)"
   ]
  },
  {
   "cell_type": "code",
   "execution_count": 29,
   "id": "db793a38-03d4-4571-a846-f962a210d1e5",
   "metadata": {},
   "outputs": [],
   "source": [
    "# training--------------------------------------"
   ]
  },
  {
   "cell_type": "code",
   "execution_count": 35,
   "id": "ca202cdc-4d31-4588-a953-46d7f6e796d1",
   "metadata": {},
   "outputs": [
    {
     "name": "stdout",
     "output_type": "stream",
     "text": [
      "epoch 1, loss 0.000100\n",
      "epoch 2, loss 0.000100\n",
      "epoch 3, loss 0.000100\n"
     ]
    }
   ],
   "source": [
    "num_epochs = 3\n",
    "for epoch in range(num_epochs):\n",
    "    for X, y in data_iter:\n",
    "        l = loss(net(X), y)\n",
    "        trainer.zero_grad()\n",
    "        l.backward()\n",
    "        trainer.step() # update model\n",
    "    l = loss(net(features), lables)\n",
    "    print(f'epoch {epoch + 1}, loss {l:f}')"
   ]
  },
  {
   "cell_type": "code",
   "execution_count": null,
   "id": "d81461d4-1b70-4b2b-9df6-eae805c9b998",
   "metadata": {},
   "outputs": [],
   "source": []
  }
 ],
 "metadata": {
  "kernelspec": {
   "display_name": "Python 3 (ipykernel)",
   "language": "python",
   "name": "python3"
  },
  "language_info": {
   "codemirror_mode": {
    "name": "ipython",
    "version": 3
   },
   "file_extension": ".py",
   "mimetype": "text/x-python",
   "name": "python",
   "nbconvert_exporter": "python",
   "pygments_lexer": "ipython3",
   "version": "3.8.20"
  }
 },
 "nbformat": 4,
 "nbformat_minor": 5
}
